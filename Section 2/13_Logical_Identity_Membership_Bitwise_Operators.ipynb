{
  "nbformat": 4,
  "nbformat_minor": 0,
  "metadata": {
    "colab": {
      "provenance": []
    },
    "kernelspec": {
      "name": "python3",
      "display_name": "Python 3"
    },
    "language_info": {
      "name": "python"
    }
  },
  "cells": [
    {
      "cell_type": "markdown",
      "source": [
        "# Logical Operators\n",
        "Logical operators connect two or more conditions and evaluate the truth or falsity of the conditions combined.\n",
        "\n",
        "| Operator | Name          | Example    |\n",
        "|----------|---------------|------------|\n",
        "| `and`    | Logical AND   | `x and y`  |\n",
        "| `or`     | Logical OR    | `x or y`   |\n",
        "| `not`    | Logical NOT   | `not x`    |\n"
      ],
      "metadata": {
        "id": "bFs2z4Kv7Df2"
      }
    },
    {
      "cell_type": "code",
      "execution_count": null,
      "metadata": {
        "colab": {
          "base_uri": "https://localhost:8080/"
        },
        "id": "yMsfrVkM6yIw",
        "outputId": "2735848a-c81e-4d53-e4a8-7a779ed4606c"
      },
      "outputs": [
        {
          "output_type": "execute_result",
          "data": {
            "text/plain": [
              "True"
            ]
          },
          "metadata": {},
          "execution_count": 7
        }
      ],
      "source": [
        "job_work_from_home = False\n",
        "job_health_insurance = False\n",
        "job_no_degree_mention = True\n",
        "\n",
        "job_work_from_home or job_health_insurance or job_no_degree_mention"
      ]
    },
    {
      "cell_type": "code",
      "source": [
        "job_work_from_home = not True\n",
        "job_work_from_home"
      ],
      "metadata": {
        "colab": {
          "base_uri": "https://localhost:8080/"
        },
        "id": "SG-aXlIWS0DL",
        "outputId": "79ade197-b388-4fc7-ad6b-5d691380f5ff"
      },
      "execution_count": null,
      "outputs": [
        {
          "output_type": "execute_result",
          "data": {
            "text/plain": [
              "False"
            ]
          },
          "metadata": {},
          "execution_count": 9
        }
      ]
    },
    {
      "cell_type": "code",
      "source": [
        "if(job_work_from_home or job_health_insurance or not job_no_degree_mention):\n",
        "  print(\"meets the conditions\")"
      ],
      "metadata": {
        "id": "4Kr4ZNb5TxAb"
      },
      "execution_count": null,
      "outputs": []
    },
    {
      "cell_type": "markdown",
      "source": [
        "# Membership Operators\n",
        "Membership operators test for membership in a sequence, such as strings, lists, or tuples.\n",
        "\n",
        "| Operator | Name            | Example       |\n",
        "|----------|------------------|---------------|\n",
        "| `in`     | Membership       | `x in y`     |\n",
        "| `not in` | Not membership   | `x not in y` |\n"
      ],
      "metadata": {
        "id": "JMPL8UGcUlxX"
      }
    },
    {
      "cell_type": "code",
      "source": [
        "\"data\" in \"Data Analyst\""
      ],
      "metadata": {
        "colab": {
          "base_uri": "https://localhost:8080/"
        },
        "id": "o2kdH5mwUON-",
        "outputId": "0fe9e72c-b54a-4881-a811-b28557a0f289"
      },
      "execution_count": null,
      "outputs": [
        {
          "output_type": "execute_result",
          "data": {
            "text/plain": [
              "False"
            ]
          },
          "metadata": {},
          "execution_count": 12
        }
      ]
    },
    {
      "cell_type": "code",
      "source": [
        "job_skills = ['python', 'r', 'sql']\n",
        "'python' in job_skills"
      ],
      "metadata": {
        "colab": {
          "base_uri": "https://localhost:8080/"
        },
        "id": "x5iwm0rAUu7H",
        "outputId": "a97a5722-14a8-48ea-b0e5-188785e7301b"
      },
      "execution_count": null,
      "outputs": [
        {
          "output_type": "execute_result",
          "data": {
            "text/plain": [
              "True"
            ]
          },
          "metadata": {},
          "execution_count": 13
        }
      ]
    },
    {
      "cell_type": "code",
      "source": [
        "'java' not in job_skills"
      ],
      "metadata": {
        "colab": {
          "base_uri": "https://localhost:8080/"
        },
        "id": "NfgfJnx3VBgY",
        "outputId": "52b49c7e-a60a-4626-b344-605dede25074"
      },
      "execution_count": null,
      "outputs": [
        {
          "output_type": "execute_result",
          "data": {
            "text/plain": [
              "True"
            ]
          },
          "metadata": {},
          "execution_count": 14
        }
      ]
    },
    {
      "cell_type": "markdown",
      "source": [
        "# Identity Operators\n",
        "Identity operators check if two variables occupy the same memory location, i.e., are identical.\n",
        "\n",
        "| Operator  | Name         | Example       |\n",
        "|-----------|--------------|---------------|\n",
        "| `is`      | Identity     | `x is y`      |\n",
        "| `is not`  | Not identity | `x is not y`  |\n"
      ],
      "metadata": {
        "id": "DTve8CWKVaoq"
      }
    },
    {
      "cell_type": "code",
      "source": [
        "Prerak_salary = 100_000\n",
        "Mehta_salary = 100_000\n",
        "\n",
        "Prerak_salary == Mehta_salary"
      ],
      "metadata": {
        "colab": {
          "base_uri": "https://localhost:8080/"
        },
        "id": "BMfyYA8jVGxQ",
        "outputId": "6e0dffc4-e28d-495a-a3a9-979357b1fee3"
      },
      "execution_count": null,
      "outputs": [
        {
          "output_type": "execute_result",
          "data": {
            "text/plain": [
              "True"
            ]
          },
          "metadata": {},
          "execution_count": 15
        }
      ]
    },
    {
      "cell_type": "code",
      "source": [
        "Prerak_salary is Mehta_salary"
      ],
      "metadata": {
        "colab": {
          "base_uri": "https://localhost:8080/"
        },
        "id": "1qQ8rBYkVq7S",
        "outputId": "05c2303e-9224-4ef3-e6a7-bb4cfe01176d"
      },
      "execution_count": null,
      "outputs": [
        {
          "output_type": "execute_result",
          "data": {
            "text/plain": [
              "False"
            ]
          },
          "metadata": {},
          "execution_count": 16
        }
      ]
    },
    {
      "cell_type": "code",
      "source": [
        "print(id(Prerak_salary))\n",
        "print(id(Mehta_salary))"
      ],
      "metadata": {
        "colab": {
          "base_uri": "https://localhost:8080/"
        },
        "id": "u8mv5F88VwBV",
        "outputId": "fa99ac2f-fbdc-49ba-e9a8-8a27ededbeab"
      },
      "execution_count": null,
      "outputs": [
        {
          "output_type": "stream",
          "name": "stdout",
          "text": [
            "136331829036080\n",
            "136331829036176\n"
          ]
        }
      ]
    },
    {
      "cell_type": "code",
      "source": [
        "id(Prerak_salary) == id(Mehta_salary)"
      ],
      "metadata": {
        "colab": {
          "base_uri": "https://localhost:8080/"
        },
        "id": "6ufTgFF3V6Z1",
        "outputId": "e7048646-7a47-40fc-ab55-c8e47a9b7911"
      },
      "execution_count": null,
      "outputs": [
        {
          "output_type": "execute_result",
          "data": {
            "text/plain": [
              "False"
            ]
          },
          "metadata": {},
          "execution_count": 18
        }
      ]
    },
    {
      "cell_type": "code",
      "source": [
        "core_skills = ['Python','R','SQL']\n",
        "\n",
        "preraks_skills = core_skills"
      ],
      "metadata": {
        "id": "FjX8PtGwV_Bh"
      },
      "execution_count": null,
      "outputs": []
    },
    {
      "cell_type": "code",
      "source": [
        "preraks_skills is core_skills"
      ],
      "metadata": {
        "colab": {
          "base_uri": "https://localhost:8080/"
        },
        "id": "Urki67sWWeG4",
        "outputId": "9ae08b00-5c90-4237-a5ec-d02f980bebe9"
      },
      "execution_count": null,
      "outputs": [
        {
          "output_type": "execute_result",
          "data": {
            "text/plain": [
              "True"
            ]
          },
          "metadata": {},
          "execution_count": 20
        }
      ]
    },
    {
      "cell_type": "markdown",
      "source": [
        "# Bitwise Operators\n",
        "Bitwise operators perform bit-by-bit operations on binary numbers.\n",
        "\n",
        "| Operator | Name          | Example   |\n",
        "|----------|---------------|-----------|\n",
        "| `&`      | Bitwise AND   | `x & y`   |\n",
        "| `|`      | Bitwise OR    | `x | y`   |\n",
        "| `^`      | Bitwise XOR   | `x ^ y`   |\n",
        "| `~`      | Bitwise NOT   | `~x`      |\n",
        "| `<<`     | Left Shift    | `x << y`  |\n",
        "| `>>`     | Right Shift   | `x >> y`  |\n"
      ],
      "metadata": {
        "id": "y4iSAP-CWqFB"
      }
    },
    {
      "cell_type": "code",
      "source": [
        "bin(42)"
      ],
      "metadata": {
        "colab": {
          "base_uri": "https://localhost:8080/",
          "height": 35
        },
        "id": "yMIjImRSWip-",
        "outputId": "c0ca9904-5e61-4aba-b17e-532940ecc546"
      },
      "execution_count": null,
      "outputs": [
        {
          "output_type": "execute_result",
          "data": {
            "text/plain": [
              "'0b101010'"
            ],
            "application/vnd.google.colaboratory.intrinsic+json": {
              "type": "string"
            }
          },
          "metadata": {},
          "execution_count": 21
        }
      ]
    },
    {
      "cell_type": "code",
      "source": [],
      "metadata": {
        "id": "Z-9LbGjSWzMA"
      },
      "execution_count": null,
      "outputs": []
    }
  ]
}