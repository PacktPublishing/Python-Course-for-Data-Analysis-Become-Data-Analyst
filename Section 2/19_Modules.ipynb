{
  "nbformat": 4,
  "nbformat_minor": 0,
  "metadata": {
    "colab": {
      "provenance": []
    },
    "kernelspec": {
      "name": "python3",
      "display_name": "Python 3"
    },
    "language_info": {
      "name": "python"
    }
  },
  "cells": [
    {
      "cell_type": "code",
      "execution_count": null,
      "metadata": {
        "colab": {
          "base_uri": "https://localhost:8080/",
          "height": 35
        },
        "id": "2i_A7E8e2iPf",
        "outputId": "b74d5d6e-a774-42da-e6aa-fdaf7c77b5b3"
      },
      "outputs": [
        {
          "output_type": "execute_result",
          "data": {
            "text/plain": [
              "'Python is my favourite skill'"
            ],
            "application/vnd.google.colaboratory.intrinsic+json": {
              "type": "string"
            }
          },
          "metadata": {},
          "execution_count": 1
        }
      ],
      "source": [
        "import my_modules\n",
        "\n",
        "my_modules.skill_list\n",
        "\n",
        "my_modules.skill(\"Python\")"
      ]
    },
    {
      "cell_type": "code",
      "source": [
        "from job_analyzer import *\n",
        "\n",
        "print(calculate_salary(100000))\n",
        "print(calculate_bonus(110000, 100000))\n",
        "\n",
        "help(calculate_salary)"
      ],
      "metadata": {
        "colab": {
          "base_uri": "https://localhost:8080/"
        },
        "id": "SogbXL3z3Sda",
        "outputId": "57409eb1-1eda-4006-db72-dfa045701110"
      },
      "execution_count": null,
      "outputs": [
        {
          "output_type": "stream",
          "name": "stdout",
          "text": [
            "110000.00000000001\n",
            "0.1\n",
            "Help on function calculate_salary in module job_analyzer:\n",
            "\n",
            "calculate_salary(base_salary, bonus_rate=0.1)\n",
            "    This will calculate total salary of an employe by adding the bonus rate\n",
            "\n"
          ]
        }
      ]
    },
    {
      "cell_type": "code",
      "source": [
        "salary_list = [98000, 101000, 102000, 99000, 97000]"
      ],
      "metadata": {
        "id": "eitEgzb34Zo2"
      },
      "execution_count": null,
      "outputs": []
    },
    {
      "cell_type": "code",
      "source": [
        "from statistics import mean, mode, median\n",
        "\n",
        "print(mean(salary_list))\n",
        "print(mode(salary_list))\n",
        "print(median(salary_list))"
      ],
      "metadata": {
        "colab": {
          "base_uri": "https://localhost:8080/"
        },
        "id": "Mb7SxmA262NF",
        "outputId": "126d88e2-f957-4e93-e11a-0155b24e29f1"
      },
      "execution_count": null,
      "outputs": [
        {
          "output_type": "stream",
          "name": "stdout",
          "text": [
            "99400\n",
            "98000\n",
            "99000\n"
          ]
        }
      ]
    },
    {
      "cell_type": "code",
      "source": [],
      "metadata": {
        "id": "-HbMAHtu69GH"
      },
      "execution_count": null,
      "outputs": []
    }
  ]
}