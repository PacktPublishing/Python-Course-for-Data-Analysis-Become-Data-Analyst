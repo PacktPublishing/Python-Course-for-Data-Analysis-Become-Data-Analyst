{
  "nbformat": 4,
  "nbformat_minor": 0,
  "metadata": {
    "colab": {
      "provenance": []
    },
    "kernelspec": {
      "name": "python3",
      "display_name": "Python 3"
    },
    "language_info": {
      "name": "python"
    }
  },
  "cells": [
    {
      "cell_type": "code",
      "execution_count": null,
      "metadata": {
        "id": "vZNbSFqAFZeD"
      },
      "outputs": [],
      "source": [
        "class PreraksList:\n",
        "    def __init__(self):\n",
        "        \"\"\"Initialize an empty list.\"\"\"\n",
        "        self._items = []\n",
        "\n",
        "    def add(self, item):\n",
        "        \"\"\"Add an item to the end of the list.\"\"\"\n",
        "        self._items.append(item)\n",
        "\n",
        "    def __getitem__(self, index):\n",
        "        \"\"\"Retrieve an item by index.\"\"\"\n",
        "        return self._items[index]\n",
        "\n",
        "    def __setitem__(self, index, value):\n",
        "        \"\"\"Set an item at a specific index.\"\"\"\n",
        "        self._items[index] = value\n",
        "\n",
        "    def __repr__(self):\n",
        "        \"\"\"Return a string representation of the list.\"\"\"\n",
        "        return str(self._items)\n",
        "\n",
        "    def __len__(self):\n",
        "        \"\"\"Return the length of the list.\"\"\"\n",
        "        return len(self._items)"
      ]
    },
    {
      "cell_type": "code",
      "source": [
        "my_list = PreraksList()"
      ],
      "metadata": {
        "id": "q4D44M20HdCj"
      },
      "execution_count": null,
      "outputs": []
    },
    {
      "cell_type": "code",
      "source": [
        "my_list"
      ],
      "metadata": {
        "colab": {
          "base_uri": "https://localhost:8080/"
        },
        "id": "xhlGORArHg62",
        "outputId": "17df12ea-d504-4184-b93d-2746d80fc36f"
      },
      "execution_count": null,
      "outputs": [
        {
          "output_type": "execute_result",
          "data": {
            "text/plain": [
              "[]"
            ]
          },
          "metadata": {},
          "execution_count": 3
        }
      ]
    },
    {
      "cell_type": "code",
      "source": [
        "my_list.add(\"Data Analyst\")"
      ],
      "metadata": {
        "id": "qFR2RpHCHirF"
      },
      "execution_count": null,
      "outputs": []
    },
    {
      "cell_type": "code",
      "source": [
        "my_list"
      ],
      "metadata": {
        "colab": {
          "base_uri": "https://localhost:8080/"
        },
        "id": "bz3C-sKAHrvw",
        "outputId": "f3409674-9f9b-4e0e-9fb2-f53ca7c90926"
      },
      "execution_count": null,
      "outputs": [
        {
          "output_type": "execute_result",
          "data": {
            "text/plain": [
              "['Data Analyst']"
            ]
          },
          "metadata": {},
          "execution_count": 5
        }
      ]
    },
    {
      "cell_type": "code",
      "source": [
        "my_list.add(\"Business Analyst\")"
      ],
      "metadata": {
        "id": "Q6afSSTdHs2U"
      },
      "execution_count": null,
      "outputs": []
    },
    {
      "cell_type": "code",
      "source": [
        "my_list"
      ],
      "metadata": {
        "colab": {
          "base_uri": "https://localhost:8080/"
        },
        "id": "avcG8ahgHweX",
        "outputId": "55f68511-4f23-4620-9577-57e6e69d7212"
      },
      "execution_count": null,
      "outputs": [
        {
          "output_type": "execute_result",
          "data": {
            "text/plain": [
              "['Data Analyst', 'Business Analyst']"
            ]
          },
          "metadata": {},
          "execution_count": 7
        }
      ]
    },
    {
      "cell_type": "code",
      "source": [
        "len(my_list)"
      ],
      "metadata": {
        "colab": {
          "base_uri": "https://localhost:8080/"
        },
        "id": "7-wgxD5IHxDi",
        "outputId": "9b6f6d33-7660-482c-bb30-7fcd39fe1146"
      },
      "execution_count": null,
      "outputs": [
        {
          "output_type": "execute_result",
          "data": {
            "text/plain": [
              "2"
            ]
          },
          "metadata": {},
          "execution_count": 8
        }
      ]
    },
    {
      "cell_type": "code",
      "source": [
        "class BaseSalary:\n",
        "  def __init__(self, base_salary, bonus_rate=0.1, symbol=\"$\"):\n",
        "    '''\n",
        "    Initialize the Salary instance for managing salary computations.\n",
        "    Args:\n",
        "      base_salary (float): The base salary.\n",
        "      bonus_rate (float): The bonus rate. Default is 0.1.\n",
        "      symbol (str): The currency symbol. Default is \"$\".\n",
        "    '''\n",
        "\n",
        "    self.base_salary = base_salary\n",
        "    self.bonus_rate = bonus_rate\n",
        "    self.symbol = symbol\n",
        "\n",
        "  def __repr__(self):\n",
        "    return f'{self.symbol}{self.base_salary:,.0f}'\n",
        "\n",
        "  def calculate_total_salary(self) :\n",
        "    '''\n",
        "    Calculate the total salary based on the base salary and the bonus rate.\n",
        "    Returns:\n",
        "    Salary: The total salary as a Salary instance, retaining the symbol and bonus rate.\n",
        "    '''\n",
        "    total_salary = self.base_salary * (1 + self.bonus_rate)\n",
        "    return (total_salary, self.symbol, self.bonus_rate)\n",
        "\n",
        "  def calculate_bonus(self):\n",
        "    '''\n",
        "    Calculate the bonus based on the base salary and the bonus rate.\n",
        "\n",
        "    Returns:\n",
        "      Salary: The bonus as a Salary instance, retaining the symbol and bonus rate\n",
        "    '''\n",
        "    bonus_amount = self.base_salary * self.bonus_rate\n",
        "    return (bonus_amount, self.symbol, self.bonus_rate)"
      ],
      "metadata": {
        "id": "cvDG6Q8eH0_w"
      },
      "execution_count": null,
      "outputs": []
    },
    {
      "cell_type": "code",
      "source": [
        "data_salary = BaseSalary(100000, 0.2)"
      ],
      "metadata": {
        "id": "Q-zXa0agIUVV"
      },
      "execution_count": null,
      "outputs": []
    },
    {
      "cell_type": "code",
      "source": [
        "data_salary"
      ],
      "metadata": {
        "colab": {
          "base_uri": "https://localhost:8080/"
        },
        "id": "dnjNV_qiIWVM",
        "outputId": "7aab8439-7487-4dad-d351-ef317ca9c41f"
      },
      "execution_count": null,
      "outputs": [
        {
          "output_type": "execute_result",
          "data": {
            "text/plain": [
              "$100,000"
            ]
          },
          "metadata": {},
          "execution_count": 16
        }
      ]
    },
    {
      "cell_type": "code",
      "source": [
        "data_salary.calculate_total_salary()"
      ],
      "metadata": {
        "colab": {
          "base_uri": "https://localhost:8080/"
        },
        "id": "Q4SXo-mnIgvc",
        "outputId": "c633aa31-ba5b-485f-cc9a-905585a549f0"
      },
      "execution_count": null,
      "outputs": [
        {
          "output_type": "execute_result",
          "data": {
            "text/plain": [
              "(120000.0, '$', 0.2)"
            ]
          },
          "metadata": {},
          "execution_count": 17
        }
      ]
    },
    {
      "cell_type": "code",
      "source": [
        "class BaseSalary:\n",
        "  def __init__(obj, base_salary, bonus_rate=0.1, symbol=\"$\"):\n",
        "    obj.base_salary = base_salary\n",
        "    obj.bonus_rate = bonus_rate\n",
        "    obj.symbol = symbol\n",
        "    obj.total_salary = base_salary * (1 + bonus_rate)\n",
        "    obj.bonus = (obj.total_salary - base_salary)\n",
        "\n",
        "  def __repr__(self):\n",
        "    return f'{self.symbol}{self.base_salary:,.2f}'\n",
        "\n",
        "  def calculate_salary(self):\n",
        "    return f'{self.symbol}{self.total_salary:,.2f}'\n",
        "\n",
        "\n",
        "  def calculate_bonus(self):\n",
        "    return f'{self.symbol}{self.bonus:,.2f}'"
      ],
      "metadata": {
        "id": "3OqIXZ7AIpRT"
      },
      "execution_count": null,
      "outputs": []
    },
    {
      "cell_type": "code",
      "source": [
        "salary = BaseSalary(100000)"
      ],
      "metadata": {
        "id": "-cOL8yIHJK1p"
      },
      "execution_count": null,
      "outputs": []
    },
    {
      "cell_type": "code",
      "source": [
        "salary"
      ],
      "metadata": {
        "colab": {
          "base_uri": "https://localhost:8080/"
        },
        "id": "D7o3b1yXJiDA",
        "outputId": "8e68f6c9-4a1a-4698-c4d4-37b29346edca"
      },
      "execution_count": null,
      "outputs": [
        {
          "output_type": "execute_result",
          "data": {
            "text/plain": [
              "$100,000.00"
            ]
          },
          "metadata": {},
          "execution_count": 52
        }
      ]
    },
    {
      "cell_type": "code",
      "source": [
        "salary.calculate_salary()"
      ],
      "metadata": {
        "colab": {
          "base_uri": "https://localhost:8080/",
          "height": 35
        },
        "id": "OU-3N6HTMTqC",
        "outputId": "eba3e49b-6c07-4523-9919-78e306e40c0a"
      },
      "execution_count": null,
      "outputs": [
        {
          "output_type": "execute_result",
          "data": {
            "text/plain": [
              "'$110,000.00'"
            ],
            "application/vnd.google.colaboratory.intrinsic+json": {
              "type": "string"
            }
          },
          "metadata": {},
          "execution_count": 53
        }
      ]
    },
    {
      "cell_type": "code",
      "source": [
        "salary.calculate_bonus()"
      ],
      "metadata": {
        "colab": {
          "base_uri": "https://localhost:8080/",
          "height": 35
        },
        "id": "Om3UmCP_OZW-",
        "outputId": "6d75a92f-c351-4583-c36b-67d2cda1f8b2"
      },
      "execution_count": null,
      "outputs": [
        {
          "output_type": "execute_result",
          "data": {
            "text/plain": [
              "'$10,000.00'"
            ],
            "application/vnd.google.colaboratory.intrinsic+json": {
              "type": "string"
            }
          },
          "metadata": {},
          "execution_count": 54
        }
      ]
    },
    {
      "cell_type": "code",
      "source": [],
      "metadata": {
        "id": "2a0zRH-kObc8"
      },
      "execution_count": null,
      "outputs": []
    }
  ]
}