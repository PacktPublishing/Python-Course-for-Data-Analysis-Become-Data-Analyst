{
  "nbformat": 4,
  "nbformat_minor": 0,
  "metadata": {
    "colab": {
      "provenance": []
    },
    "kernelspec": {
      "name": "python3",
      "display_name": "Python 3"
    },
    "language_info": {
      "name": "python"
    }
  },
  "cells": [
    {
      "cell_type": "code",
      "source": [
        "import pandas as pd\n",
        "\n",
        "# Specify the file path inside the 'sample_data' folder\n",
        "file_path = '/content/sample_data/data_jobs.csv'  # Replace 'your_file_name.csv' with the actual file name\n",
        "\n",
        "# Load the CSV file into a DataFrame\n",
        "df = pd.read_csv('/content/sample_data/data_jobs.csv')\n",
        "\n",
        "# Extract the 'job_title' column and store its contents as a list\n",
        "job_list = df['job_title'].tolist()\n",
        "\n",
        "# Remove any non-string values from the list\n",
        "job_list = [job for job in job_list if isinstance(job, str)]\n",
        "\n"
      ],
      "metadata": {
        "id": "I5wyPQhTHUlK"
      },
      "execution_count": null,
      "outputs": []
    },
    {
      "cell_type": "markdown",
      "source": [
        "# List Comprehension"
      ],
      "metadata": {
        "id": "UHxXGmk_O47h"
      }
    },
    {
      "cell_type": "code",
      "source": [
        "numbers = [x for x in 'PYTHON']"
      ],
      "metadata": {
        "id": "c6T3sIIVgSIu"
      },
      "execution_count": null,
      "outputs": []
    },
    {
      "cell_type": "code",
      "source": [
        "numbers"
      ],
      "metadata": {
        "colab": {
          "base_uri": "https://localhost:8080/"
        },
        "id": "H8qYIgT6gkY9",
        "outputId": "462a088f-a40a-4bd7-ed1a-f875ee918ab1"
      },
      "execution_count": null,
      "outputs": [
        {
          "output_type": "execute_result",
          "data": {
            "text/plain": [
              "['P', 'Y', 'T', 'H', 'O', 'N']"
            ]
          },
          "metadata": {},
          "execution_count": 52
        }
      ]
    },
    {
      "cell_type": "code",
      "source": [
        "numbers = {x for x in 'PYTHON'}\n",
        "\n",
        "numbers"
      ],
      "metadata": {
        "colab": {
          "base_uri": "https://localhost:8080/"
        },
        "id": "sKXXFAAoglLb",
        "outputId": "646ef4f5-899e-4718-aa1f-c72ca4105c6e"
      },
      "execution_count": null,
      "outputs": [
        {
          "output_type": "execute_result",
          "data": {
            "text/plain": [
              "{'H', 'N', 'O', 'P', 'T', 'Y'}"
            ]
          },
          "metadata": {},
          "execution_count": 53
        }
      ]
    },
    {
      "cell_type": "code",
      "source": [
        "analyst_list = []\n",
        "\n",
        "for job in job_list:\n",
        "  if \"Data Analyst\" in job:\n",
        "    analyst_list.append(job)"
      ],
      "metadata": {
        "id": "fvwo0JkzhUCr"
      },
      "execution_count": null,
      "outputs": []
    },
    {
      "cell_type": "code",
      "source": [
        "len(analyst_list)"
      ],
      "metadata": {
        "colab": {
          "base_uri": "https://localhost:8080/"
        },
        "id": "6oKPosj5hhcU",
        "outputId": "9aad6ebf-3261-45a5-8233-1e7ba40252f5"
      },
      "execution_count": null,
      "outputs": [
        {
          "output_type": "execute_result",
          "data": {
            "text/plain": [
              "162708"
            ]
          },
          "metadata": {},
          "execution_count": 56
        }
      ]
    },
    {
      "cell_type": "code",
      "source": [
        "analyst_list = [job for job in job_list if \"Data Analyst\" in job]\n",
        "\n",
        "len(analyst_list)"
      ],
      "metadata": {
        "colab": {
          "base_uri": "https://localhost:8080/"
        },
        "id": "JFEyeJdnhjOf",
        "outputId": "800e0254-914b-4202-f718-132573075855"
      },
      "execution_count": null,
      "outputs": [
        {
          "output_type": "execute_result",
          "data": {
            "text/plain": [
              "162708"
            ]
          },
          "metadata": {},
          "execution_count": 59
        }
      ]
    },
    {
      "cell_type": "code",
      "source": [],
      "metadata": {
        "id": "ro4N3WExiGtu"
      },
      "execution_count": null,
      "outputs": []
    }
  ]
}