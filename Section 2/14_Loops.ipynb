{
  "nbformat": 4,
  "nbformat_minor": 0,
  "metadata": {
    "colab": {
      "provenance": []
    },
    "kernelspec": {
      "name": "python3",
      "display_name": "Python 3"
    },
    "language_info": {
      "name": "python"
    }
  },
  "cells": [
    {
      "cell_type": "markdown",
      "source": [
        "# Loops\n",
        "`for` loops\n",
        "\n",
        "`while` loops"
      ],
      "metadata": {
        "id": "7QMyBJCmvCH2"
      }
    },
    {
      "cell_type": "code",
      "source": [
        "job_list"
      ],
      "metadata": {
        "colab": {
          "base_uri": "https://localhost:8080/"
        },
        "id": "7S0MkZyLEDfW",
        "outputId": "1c0f52a5-c718-4614-a8de-95d7415fcf4a"
      },
      "execution_count": null,
      "outputs": [
        {
          "output_type": "execute_result",
          "data": {
            "text/plain": [
              "['Data Scientist',\n",
              " 'Data Analyst',\n",
              " 'Business Analyst',\n",
              " 'Machine Learning Engineer',\n",
              " 'Artificial Intelligence Engineer',\n",
              " 'Cloud Engineer',\n",
              " 'DevOps Engineer',\n",
              " 'Software Developer',\n",
              " 'Backend Developer',\n",
              " 'Frontend Developer',\n",
              " 'Full Stack Developer',\n",
              " 'Database Administrator',\n",
              " 'Cybersecurity Analyst',\n",
              " 'Network Engineer',\n",
              " 'UI/UX Designer',\n",
              " 'Product Manager',\n",
              " 'IT Project Manager',\n",
              " 'Systems Analyst',\n",
              " 'Scrum Master',\n",
              " 'Agile Coach',\n",
              " 'Blockchain Developer',\n",
              " 'AI Research Scientist',\n",
              " 'Data Engineer',\n",
              " 'Big Data Engineer',\n",
              " 'Quantitative Analyst',\n",
              " 'Web Developer',\n",
              " 'Mobile App Developer',\n",
              " 'Game Developer',\n",
              " 'Embedded Systems Engineer',\n",
              " 'IT Support Specialist',\n",
              " 'Help Desk Technician',\n",
              " 'System Administrator',\n",
              " 'Technical Writer',\n",
              " 'Technical Recruiter',\n",
              " 'SEO Specialist',\n",
              " 'Digital Marketing Analyst',\n",
              " 'Growth Hacker',\n",
              " 'IT Consultant',\n",
              " 'ERP Specialist',\n",
              " 'Salesforce Administrator',\n",
              " 'IoT Developer',\n",
              " 'AR/VR Developer',\n",
              " 'Bioinformatics Scientist',\n",
              " 'Computer Vision Engineer',\n",
              " 'Penetration Tester',\n",
              " 'Ethical Hacker',\n",
              " 'IT Auditor',\n",
              " 'Cloud Solutions Architect',\n",
              " 'AI Product Manager',\n",
              " 'Business Intelligence Analyst',\n",
              " 'RPA Developer',\n",
              " 'IT Operations Manager',\n",
              " 'E-commerce Manager',\n",
              " 'Information Security Manager',\n",
              " 'IT Risk Manager',\n",
              " 'Data Visualization Specialist',\n",
              " 'Cloud Security Engineer',\n",
              " 'AI Trainer',\n",
              " 'Deep Learning Specialist',\n",
              " 'Natural Language Processing (NLP) Engineer',\n",
              " 'Algorithm Engineer',\n",
              " 'Hardware Engineer',\n",
              " 'Robotics Engineer',\n",
              " 'Quantum Computing Scientist',\n",
              " '3D Printing Specialist',\n",
              " 'Digital Transformation Consultant',\n",
              " 'Virtual Reality Designer',\n",
              " 'Augmented Reality Specialist',\n",
              " 'Cryptographer',\n",
              " 'GIS Specialist',\n",
              " 'Data Architect',\n",
              " 'Simulation Engineer',\n",
              " 'Data Governance Specialist',\n",
              " 'Knowledge Engineer',\n",
              " 'Innovation Manager',\n",
              " 'IT Business Analyst',\n",
              " 'Solutions Architect',\n",
              " 'Microservices Developer',\n",
              " 'Data Quality Analyst',\n",
              " 'Digital Forensics Specialist',\n",
              " 'Cloud Operations Engineer',\n",
              " 'Automation Engineer',\n",
              " 'Information Systems Manager',\n",
              " 'IT Infrastructure Engineer',\n",
              " 'IT Procurement Specialist',\n",
              " 'Software Tester',\n",
              " 'Quality Assurance Engineer',\n",
              " 'Release Manager',\n",
              " 'Application Security Engineer',\n",
              " 'Site Reliability Engineer (SRE)',\n",
              " 'Platform Engineer',\n",
              " 'Data Warehouse Engineer',\n",
              " 'NoSQL Database Specialist',\n",
              " 'Virtualization Engineer',\n",
              " 'Performance Engineer',\n",
              " 'DevSecOps Specialist',\n",
              " 'Voice Technology Developer',\n",
              " 'Technical Program Manager',\n",
              " 'IT Trainer',\n",
              " 'IT Policy Manager',\n",
              " 'Social Media Analyst',\n",
              " 'Webmaster',\n",
              " 'IT Compliance Officer']"
            ]
          },
          "metadata": {},
          "execution_count": 39
        }
      ]
    },
    {
      "cell_type": "code",
      "source": [
        "len(job_list)"
      ],
      "metadata": {
        "colab": {
          "base_uri": "https://localhost:8080/"
        },
        "id": "G2T5UjUA52dp",
        "outputId": "0fb7f6c4-3f7e-453b-ec0a-1e96c58ae114"
      },
      "execution_count": null,
      "outputs": [
        {
          "output_type": "execute_result",
          "data": {
            "text/plain": [
              "103"
            ]
          },
          "metadata": {},
          "execution_count": 40
        }
      ]
    },
    {
      "cell_type": "code",
      "source": [
        "analyst_list = []"
      ],
      "metadata": {
        "id": "KLWXuX0D57rO"
      },
      "execution_count": null,
      "outputs": []
    },
    {
      "cell_type": "code",
      "source": [
        "for job in job_list:\n",
        "  if \"Data Analyst\" in job:\n",
        "    analyst_list.append(job)"
      ],
      "metadata": {
        "id": "O_Wbk_oO6Gia"
      },
      "execution_count": null,
      "outputs": []
    },
    {
      "cell_type": "code",
      "source": [
        "analyst_list"
      ],
      "metadata": {
        "colab": {
          "base_uri": "https://localhost:8080/"
        },
        "id": "TeAPR1qw6Yqp",
        "outputId": "b84a1559-5323-44cc-8703-70033a00dfb6"
      },
      "execution_count": null,
      "outputs": [
        {
          "output_type": "execute_result",
          "data": {
            "text/plain": [
              "['Data Analyst']"
            ]
          },
          "metadata": {},
          "execution_count": 43
        }
      ]
    },
    {
      "cell_type": "code",
      "source": [
        "numbers = [0, 1, 2, 3, 4, 5]"
      ],
      "metadata": {
        "id": "DcqsTGMl6bvU"
      },
      "execution_count": null,
      "outputs": []
    },
    {
      "cell_type": "code",
      "source": [
        "for number in numbers:\n",
        "  print(number)\n"
      ],
      "metadata": {
        "colab": {
          "base_uri": "https://localhost:8080/"
        },
        "id": "beokv-Jm6npr",
        "outputId": "d320cb27-4e37-40a7-bddf-1f9219ab1056"
      },
      "execution_count": null,
      "outputs": [
        {
          "output_type": "stream",
          "name": "stdout",
          "text": [
            "0\n",
            "1\n",
            "2\n",
            "3\n",
            "4\n",
            "5\n"
          ]
        }
      ]
    },
    {
      "cell_type": "code",
      "source": [
        "characters = \"PYTHON\""
      ],
      "metadata": {
        "id": "tn9GKf8761wQ"
      },
      "execution_count": null,
      "outputs": []
    },
    {
      "cell_type": "code",
      "source": [
        "for _ in characters:\n",
        "  print(_)"
      ],
      "metadata": {
        "colab": {
          "base_uri": "https://localhost:8080/"
        },
        "id": "G--4ORjo7F5G",
        "outputId": "3ee91657-982d-46a9-af64-4e7491473925"
      },
      "execution_count": null,
      "outputs": [
        {
          "output_type": "stream",
          "name": "stdout",
          "text": [
            "P\n",
            "Y\n",
            "T\n",
            "H\n",
            "O\n",
            "N\n"
          ]
        }
      ]
    },
    {
      "cell_type": "code",
      "source": [
        "years_experience = {\n",
        "\n",
        "'Prerak' : 3,\n",
        "\n",
        "'Max' : 2,\n",
        "\n",
        "'Jack': 9,\n",
        "\n",
        "'Jon': 4\n",
        "\n",
        "\n",
        "}"
      ],
      "metadata": {
        "id": "fPJg-bTQ7Jp5"
      },
      "execution_count": null,
      "outputs": []
    },
    {
      "cell_type": "code",
      "source": [
        "for key,value in years_experience.items():\n",
        "  print(key,value)"
      ],
      "metadata": {
        "colab": {
          "base_uri": "https://localhost:8080/"
        },
        "id": "yiGJZ-uy75m2",
        "outputId": "a03892f7-6a05-4ce6-d7ae-941d74073584"
      },
      "execution_count": null,
      "outputs": [
        {
          "output_type": "stream",
          "name": "stdout",
          "text": [
            "Prerak 3\n",
            "Max 2\n",
            "Jack 9\n",
            "Jon 4\n"
          ]
        }
      ]
    },
    {
      "cell_type": "code",
      "source": [
        "for key,value in years_experience.items():\n",
        "  if value > 5:\n",
        "    print(key, 'has', value, \"years of experience\")"
      ],
      "metadata": {
        "colab": {
          "base_uri": "https://localhost:8080/"
        },
        "id": "u1d363IP9LEe",
        "outputId": "e7af5c8b-ee80-421f-ada6-ed721482b4f0"
      },
      "execution_count": null,
      "outputs": [
        {
          "output_type": "stream",
          "name": "stdout",
          "text": [
            "Jack has 9 years of experience\n"
          ]
        }
      ]
    },
    {
      "cell_type": "code",
      "source": [
        "help(dict)"
      ],
      "metadata": {
        "colab": {
          "base_uri": "https://localhost:8080/"
        },
        "id": "lgpN2OU88NK8",
        "outputId": "b09ca84a-7494-41a0-93a9-5c93bd8ffe6a"
      },
      "execution_count": null,
      "outputs": [
        {
          "output_type": "stream",
          "name": "stdout",
          "text": [
            "Help on class dict in module builtins:\n",
            "\n",
            "class dict(object)\n",
            " |  dict() -> new empty dictionary\n",
            " |  dict(mapping) -> new dictionary initialized from a mapping object's\n",
            " |      (key, value) pairs\n",
            " |  dict(iterable) -> new dictionary initialized as if via:\n",
            " |      d = {}\n",
            " |      for k, v in iterable:\n",
            " |          d[k] = v\n",
            " |  dict(**kwargs) -> new dictionary initialized with the name=value pairs\n",
            " |      in the keyword argument list.  For example:  dict(one=1, two=2)\n",
            " |  \n",
            " |  Built-in subclasses:\n",
            " |      StgDict\n",
            " |  \n",
            " |  Methods defined here:\n",
            " |  \n",
            " |  __contains__(self, key, /)\n",
            " |      True if the dictionary has the specified key, else False.\n",
            " |  \n",
            " |  __delitem__(self, key, /)\n",
            " |      Delete self[key].\n",
            " |  \n",
            " |  __eq__(self, value, /)\n",
            " |      Return self==value.\n",
            " |  \n",
            " |  __ge__(self, value, /)\n",
            " |      Return self>=value.\n",
            " |  \n",
            " |  __getattribute__(self, name, /)\n",
            " |      Return getattr(self, name).\n",
            " |  \n",
            " |  __getitem__(...)\n",
            " |      x.__getitem__(y) <==> x[y]\n",
            " |  \n",
            " |  __gt__(self, value, /)\n",
            " |      Return self>value.\n",
            " |  \n",
            " |  __init__(self, /, *args, **kwargs)\n",
            " |      Initialize self.  See help(type(self)) for accurate signature.\n",
            " |  \n",
            " |  __ior__(self, value, /)\n",
            " |      Return self|=value.\n",
            " |  \n",
            " |  __iter__(self, /)\n",
            " |      Implement iter(self).\n",
            " |  \n",
            " |  __le__(self, value, /)\n",
            " |      Return self<=value.\n",
            " |  \n",
            " |  __len__(self, /)\n",
            " |      Return len(self).\n",
            " |  \n",
            " |  __lt__(self, value, /)\n",
            " |      Return self<value.\n",
            " |  \n",
            " |  __ne__(self, value, /)\n",
            " |      Return self!=value.\n",
            " |  \n",
            " |  __or__(self, value, /)\n",
            " |      Return self|value.\n",
            " |  \n",
            " |  __repr__(self, /)\n",
            " |      Return repr(self).\n",
            " |  \n",
            " |  __reversed__(self, /)\n",
            " |      Return a reverse iterator over the dict keys.\n",
            " |  \n",
            " |  __ror__(self, value, /)\n",
            " |      Return value|self.\n",
            " |  \n",
            " |  __setitem__(self, key, value, /)\n",
            " |      Set self[key] to value.\n",
            " |  \n",
            " |  __sizeof__(...)\n",
            " |      D.__sizeof__() -> size of D in memory, in bytes\n",
            " |  \n",
            " |  clear(...)\n",
            " |      D.clear() -> None.  Remove all items from D.\n",
            " |  \n",
            " |  copy(...)\n",
            " |      D.copy() -> a shallow copy of D\n",
            " |  \n",
            " |  get(self, key, default=None, /)\n",
            " |      Return the value for key if key is in the dictionary, else default.\n",
            " |  \n",
            " |  items(...)\n",
            " |      D.items() -> a set-like object providing a view on D's items\n",
            " |  \n",
            " |  keys(...)\n",
            " |      D.keys() -> a set-like object providing a view on D's keys\n",
            " |  \n",
            " |  pop(...)\n",
            " |      D.pop(k[,d]) -> v, remove specified key and return the corresponding value.\n",
            " |      \n",
            " |      If the key is not found, return the default if given; otherwise,\n",
            " |      raise a KeyError.\n",
            " |  \n",
            " |  popitem(self, /)\n",
            " |      Remove and return a (key, value) pair as a 2-tuple.\n",
            " |      \n",
            " |      Pairs are returned in LIFO (last-in, first-out) order.\n",
            " |      Raises KeyError if the dict is empty.\n",
            " |  \n",
            " |  setdefault(self, key, default=None, /)\n",
            " |      Insert key with a value of default if key is not in the dictionary.\n",
            " |      \n",
            " |      Return the value for key if key is in the dictionary, else default.\n",
            " |  \n",
            " |  update(...)\n",
            " |      D.update([E, ]**F) -> None.  Update D from dict/iterable E and F.\n",
            " |      If E is present and has a .keys() method, then does:  for k in E: D[k] = E[k]\n",
            " |      If E is present and lacks a .keys() method, then does:  for k, v in E: D[k] = v\n",
            " |      In either case, this is followed by: for k in F:  D[k] = F[k]\n",
            " |  \n",
            " |  values(...)\n",
            " |      D.values() -> an object providing a view on D's values\n",
            " |  \n",
            " |  ----------------------------------------------------------------------\n",
            " |  Class methods defined here:\n",
            " |  \n",
            " |  __class_getitem__(...) from builtins.type\n",
            " |      See PEP 585\n",
            " |  \n",
            " |  fromkeys(iterable, value=None, /) from builtins.type\n",
            " |      Create a new dictionary with keys from iterable and values set to value.\n",
            " |  \n",
            " |  ----------------------------------------------------------------------\n",
            " |  Static methods defined here:\n",
            " |  \n",
            " |  __new__(*args, **kwargs) from builtins.type\n",
            " |      Create and return a new object.  See help(type) for accurate signature.\n",
            " |  \n",
            " |  ----------------------------------------------------------------------\n",
            " |  Data and other attributes defined here:\n",
            " |  \n",
            " |  __hash__ = None\n",
            "\n"
          ]
        }
      ]
    },
    {
      "cell_type": "code",
      "source": [
        "tuple(range(5))"
      ],
      "metadata": {
        "colab": {
          "base_uri": "https://localhost:8080/"
        },
        "id": "GCEZAfDu8vlT",
        "outputId": "f329e575-4372-4bf2-cd26-c66cd71d0d2f"
      },
      "execution_count": null,
      "outputs": [
        {
          "output_type": "execute_result",
          "data": {
            "text/plain": [
              "(0, 1, 2, 3, 4)"
            ]
          },
          "metadata": {},
          "execution_count": 52
        }
      ]
    },
    {
      "cell_type": "code",
      "source": [
        "for _ in range(100):\n",
        "  print(_)"
      ],
      "metadata": {
        "colab": {
          "base_uri": "https://localhost:8080/"
        },
        "id": "oMUYrJj89lNJ",
        "outputId": "da225aeb-7592-4376-e440-a47bd1a1772c"
      },
      "execution_count": null,
      "outputs": [
        {
          "output_type": "stream",
          "name": "stdout",
          "text": [
            "0\n",
            "1\n",
            "2\n",
            "3\n",
            "4\n",
            "5\n",
            "6\n",
            "7\n",
            "8\n",
            "9\n",
            "10\n",
            "11\n",
            "12\n",
            "13\n",
            "14\n",
            "15\n",
            "16\n",
            "17\n",
            "18\n",
            "19\n",
            "20\n",
            "21\n",
            "22\n",
            "23\n",
            "24\n",
            "25\n",
            "26\n",
            "27\n",
            "28\n",
            "29\n",
            "30\n",
            "31\n",
            "32\n",
            "33\n",
            "34\n",
            "35\n",
            "36\n",
            "37\n",
            "38\n",
            "39\n",
            "40\n",
            "41\n",
            "42\n",
            "43\n",
            "44\n",
            "45\n",
            "46\n",
            "47\n",
            "48\n",
            "49\n",
            "50\n",
            "51\n",
            "52\n",
            "53\n",
            "54\n",
            "55\n",
            "56\n",
            "57\n",
            "58\n",
            "59\n",
            "60\n",
            "61\n",
            "62\n",
            "63\n",
            "64\n",
            "65\n",
            "66\n",
            "67\n",
            "68\n",
            "69\n",
            "70\n",
            "71\n",
            "72\n",
            "73\n",
            "74\n",
            "75\n",
            "76\n",
            "77\n",
            "78\n",
            "79\n",
            "80\n",
            "81\n",
            "82\n",
            "83\n",
            "84\n",
            "85\n",
            "86\n",
            "87\n",
            "88\n",
            "89\n",
            "90\n",
            "91\n",
            "92\n",
            "93\n",
            "94\n",
            "95\n",
            "96\n",
            "97\n",
            "98\n",
            "99\n"
          ]
        }
      ]
    },
    {
      "cell_type": "code",
      "source": [
        "while False:\n",
        "  print(\"Data Analyst\")"
      ],
      "metadata": {
        "id": "mIbvag9v9wze"
      },
      "execution_count": null,
      "outputs": []
    },
    {
      "cell_type": "code",
      "source": [
        "count = 1\n",
        "while count < 5:\n",
        "  print(count)\n",
        "  count += 1"
      ],
      "metadata": {
        "colab": {
          "base_uri": "https://localhost:8080/"
        },
        "id": "VGtoJGa1-BDK",
        "outputId": "64509b2c-13e5-476d-a60c-717d987cc2d9"
      },
      "execution_count": null,
      "outputs": [
        {
          "output_type": "stream",
          "name": "stdout",
          "text": [
            "1\n",
            "2\n",
            "3\n",
            "4\n"
          ]
        }
      ]
    },
    {
      "cell_type": "code",
      "source": [
        "years = 0\n",
        "index = 0\n",
        "years_list = list(years_experience.items())\n",
        "while years < 5:\n",
        "  key, years = years_list[index]\n",
        "  print(key, 'has', years, \"years of experience\")\n",
        "  index += 1\n"
      ],
      "metadata": {
        "colab": {
          "base_uri": "https://localhost:8080/"
        },
        "id": "zo2U4emw-0c1",
        "outputId": "f18de2d3-d2a2-411c-be88-90870f990f28"
      },
      "execution_count": null,
      "outputs": [
        {
          "output_type": "stream",
          "name": "stdout",
          "text": [
            "Prerak has 3 years of experience\n",
            "Max has 2 years of experience\n",
            "Jack has 9 years of experience\n"
          ]
        }
      ]
    },
    {
      "cell_type": "code",
      "source": [],
      "metadata": {
        "id": "hmv1HTuA_e7X"
      },
      "execution_count": null,
      "outputs": []
    }
  ]
}