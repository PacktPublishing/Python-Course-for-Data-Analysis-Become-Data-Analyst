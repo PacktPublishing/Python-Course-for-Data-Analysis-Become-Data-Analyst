{
  "nbformat": 4,
  "nbformat_minor": 0,
  "metadata": {
    "colab": {
      "provenance": []
    },
    "kernelspec": {
      "name": "python3",
      "display_name": "Python 3"
    },
    "language_info": {
      "name": "python"
    }
  },
  "cells": [
    {
      "cell_type": "markdown",
      "source": [
        "# Types of Functions\n",
        "\n",
        "| Types of Functions         | Example Function       | Section               |\n",
        "|----------------------------|------------------------|-----------------------|\n",
        "| Built-In functions         | `max()`               | 1. Getting Started    |\n",
        "| User-defined functions     | `def my_function(): pass` | 16. Functions       |\n",
        "| Lambda functions           | `lambda x: x + 1`     | 17. Lambda            |\n",
        "| Standard Library functions | `math.sqrt()`         | 18. Modules           |\n",
        "| Third-Party Library Functions | `numpy.array()`    | 19. Library           |\n"
      ],
      "metadata": {
        "id": "BUgbaVKmCsIx"
      }
    },
    {
      "cell_type": "code",
      "source": [
        "mul_two = lambda x: x*2"
      ],
      "metadata": {
        "id": "fPExcyckG5I_"
      },
      "execution_count": null,
      "outputs": []
    },
    {
      "cell_type": "code",
      "source": [
        "mul_two(3)"
      ],
      "metadata": {
        "colab": {
          "base_uri": "https://localhost:8080/"
        },
        "id": "kKDJPGogIIvt",
        "outputId": "a04e30b6-f535-4e0a-fb3e-83aee330992d"
      },
      "execution_count": null,
      "outputs": [
        {
          "output_type": "execute_result",
          "data": {
            "text/plain": [
              "6"
            ]
          },
          "metadata": {},
          "execution_count": 22
        }
      ]
    },
    {
      "cell_type": "code",
      "source": [
        "(lambda x, y: x*2 + y)(3,4)"
      ],
      "metadata": {
        "colab": {
          "base_uri": "https://localhost:8080/"
        },
        "id": "t8M_oLXOIQG1",
        "outputId": "2b9acffe-5b3a-4b11-b175-9a7ffc99b810"
      },
      "execution_count": null,
      "outputs": [
        {
          "output_type": "execute_result",
          "data": {
            "text/plain": [
              "10"
            ]
          },
          "metadata": {},
          "execution_count": 24
        }
      ]
    },
    {
      "cell_type": "code",
      "source": [
        "salary_list = [100000, 200000, 150000, 120000, 80000, 750000]\n",
        "\n",
        "# Calculate total_salary of base_salary * (1 + bonus_rate)\n",
        "\n",
        "# def calculate_salary (base_salary, bonus_rate=.1):\n",
        "#   total_salary = base_salary * (1 + bonus_rate)\n",
        "#   return total_salary\n",
        "\n",
        "\n",
        "total_salary_list = [salary * 1.1 for salary in salary_list]\n",
        "\n",
        "total_salary_list"
      ],
      "metadata": {
        "colab": {
          "base_uri": "https://localhost:8080/"
        },
        "id": "4TQV1h07IZFO",
        "outputId": "03371110-f1c9-49ce-ea2f-7e0aa67a26ea"
      },
      "execution_count": null,
      "outputs": [
        {
          "output_type": "execute_result",
          "data": {
            "text/plain": [
              "[110000.00000000001,\n",
              " 220000.00000000003,\n",
              " 165000.0,\n",
              " 132000.0,\n",
              " 88000.0,\n",
              " 825000.0000000001]"
            ]
          },
          "metadata": {},
          "execution_count": 29
        }
      ]
    },
    {
      "cell_type": "code",
      "source": [
        "jobs_data = [\n",
        "    {'job_title': 'Data Scientist',  'job_skills': ['Python', 'Machine Learning'], 'remote': True},\n",
        "    {'job_title': 'Data Analyst',  'job_skills': ['Excel', 'SQL'], 'remote': False},\n",
        "    {'job_title': 'Machine Learning Engineer', 'job_skills': ['Python', 'TensorFlow', 'Keras'], 'remote': True},\n",
        "    {'job_title': 'Software Developer', 'job_skills': ['Java', 'C++'], 'remote': True},\n",
        "    {'job_title': 'Data Scientist', 'job_skills': ['R', 'Statistics'], 'remote': False}\n",
        "]"
      ],
      "metadata": {
        "id": "Czp4jX-ZJDbd"
      },
      "execution_count": null,
      "outputs": []
    },
    {
      "cell_type": "code",
      "source": [
        "list(filter(lambda job: job['remote'] and \"Python\" in job['job_skills'], jobs_data))"
      ],
      "metadata": {
        "colab": {
          "base_uri": "https://localhost:8080/"
        },
        "id": "fyMwO_4hKQo2",
        "outputId": "851a7599-3eaf-4152-dde3-9fac89afd3da"
      },
      "execution_count": null,
      "outputs": [
        {
          "output_type": "execute_result",
          "data": {
            "text/plain": [
              "[{'job_title': 'Data Scientist',\n",
              "  'job_skills': ['Python', 'Machine Learning'],\n",
              "  'remote': True},\n",
              " {'job_title': 'Machine Learning Engineer',\n",
              "  'job_skills': ['Python', 'TensorFlow', 'Keras'],\n",
              "  'remote': True}]"
            ]
          },
          "metadata": {},
          "execution_count": 34
        }
      ]
    },
    {
      "cell_type": "code",
      "source": [],
      "metadata": {
        "id": "o9JEQm1lKS6r"
      },
      "execution_count": null,
      "outputs": []
    }
  ]
}